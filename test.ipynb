{
 "cells": [
  {
   "cell_type": "code",
   "execution_count": 13,
   "outputs": [
    {
     "name": "stdout",
     "output_type": "stream",
     "text": [
      "hhh\n"
     ]
    }
   ],
   "source": [
    "print('hhh')"
   ],
   "metadata": {
    "collapsed": false,
    "ExecuteTime": {
     "end_time": "2023-07-17T05:12:21.026365800Z",
     "start_time": "2023-07-17T05:12:20.975500800Z"
    }
   }
  },
  {
   "cell_type": "code",
   "execution_count": 52,
   "outputs": [
    {
     "name": "stdout",
     "output_type": "stream",
     "text": [
      "D:\\肝包虫图片\\包虫勾画工作\\专家共识包虫图片\\2_张旭辉\\2015年超声图片\\1512039\\2015_1512039_6.png <class 'str'>\n"
     ]
    }
   ],
   "source": [
    "# .mat文件读取\n",
    "from scipy.io import loadmat\n",
    "\n",
    "# 指定.mat文件的路径\n",
    "mat_file_path = r'D:\\肝包虫图片\\包虫勾画工作\\专家共识包虫图片\\2_张旭辉\\保存路径-专\\B-000C017A869153D099C1AA9B0C892CF1.mat'\n",
    "\n",
    "# 使用loadmat函数打开.mat文件\n",
    "data = loadmat(mat_file_path)\n",
    "temp = str(data['roi'].flatten()[0][-1][0])\n",
    "print(temp, type(temp))\n",
    "\n",
    "# 现在，您可以使用字典的键访问.mat文件中的数据"
   ],
   "metadata": {
    "collapsed": false,
    "ExecuteTime": {
     "end_time": "2023-07-17T05:28:12.482317300Z",
     "start_time": "2023-07-17T05:28:12.462370900Z"
    }
   }
  },
  {
   "cell_type": "code",
   "execution_count": 62,
   "outputs": [
    {
     "data": {
      "text/plain": "'E:\\\\筛选后肝包虫图片\\\\肝包虫图片\\\\包虫勾画工作\\\\专家共识包虫图片\\\\2_张旭辉\\\\2015年超声图片\\\\158\\\\2015_158_2.bmp'"
     },
     "execution_count": 62,
     "metadata": {},
     "output_type": "execute_result"
    }
   ],
   "source": [
    "# 文件及文件结构复制\n",
    "import os\n",
    "import shutil\n",
    "\n",
    "# 定义源文件路径\n",
    "source_file = r'D:\\肝包虫图片\\包虫勾画工作\\专家共识包虫图片\\2_张旭辉\\2015年超声图片\\158\\2015_158_2.bmp'\n",
    "\n",
    "# 定义目标目录路径\n",
    "destination_directory = r'E:\\筛选后肝包虫图片'\n",
    "\n",
    "# 去除盘符\n",
    "temp = '\\\\'.join(source_file.split('\\\\')[1:])\n",
    "\n",
    "# 拼接目标文件夹路径\n",
    "destination_folder = os.path.join(destination_directory, os.path.dirname(temp))\n",
    "\n",
    "# 创建目标文件夹（如果不存在）\n",
    "os.makedirs(destination_folder, exist_ok=True)\n",
    "\n",
    "# 拼接目标文件路径\n",
    "destination_file = os.path.join(destination_directory, temp)\n",
    "\n",
    "# 使用shutil库的copy2函数复制文件\n",
    "shutil.copy(source_file, destination_file)\n"
   ],
   "metadata": {
    "collapsed": false,
    "ExecuteTime": {
     "end_time": "2023-07-17T05:53:23.658555700Z",
     "start_time": "2023-07-17T05:53:23.636252400Z"
    }
   }
  },
  {
   "cell_type": "code",
   "execution_count": 100,
   "outputs": [
    {
     "name": "stdout",
     "output_type": "stream",
     "text": [
      "45395\n"
     ]
    }
   ],
   "source": [
    "# 读取待分类的所有图像的绝对路径\n",
    "from pathlib import *\n",
    "p = Path(r'D:\\肝包虫图片\\包虫勾画工作')\n",
    "jpg_g = list(p.glob('**/*.jpg'))\n",
    "bmp_g = list(p.glob('**/*.bmp'))\n",
    "png_g = list(p.glob('**/*.png'))\n",
    "img = jpg_g + bmp_g + png_g\n",
    "img_sorted = sorted(img)\n",
    "print(len(img_sorted))"
   ],
   "metadata": {
    "collapsed": false,
    "ExecuteTime": {
     "end_time": "2023-07-17T06:26:38.761757600Z",
     "start_time": "2023-07-17T06:26:32.569867Z"
    }
   }
  },
  {
   "cell_type": "code",
   "execution_count": 104,
   "outputs": [],
   "source": [
    "import pickle\n",
    "with open('./assets/images_list.pkl', 'wb') as f:\n",
    "    pickle.dump(list(map(str, img_sorted)), f)"
   ],
   "metadata": {
    "collapsed": false,
    "ExecuteTime": {
     "end_time": "2023-07-17T06:31:33.181516800Z",
     "start_time": "2023-07-17T06:31:33.108222800Z"
    }
   }
  },
  {
   "cell_type": "code",
   "execution_count": 3,
   "outputs": [
    {
     "name": "stdout",
     "output_type": "stream",
     "text": [
      "45395\n",
      "['D:\\\\肝包虫图片\\\\包虫勾画工作\\\\专家共识包虫图片\\\\1_任叶蕾\\\\2014年超声图片\\\\03001\\\\2014_03001_1.bmp', 'D:\\\\肝包虫图片\\\\包虫勾画工作\\\\专家共识包虫图片\\\\1_任叶蕾\\\\2014年超声图片\\\\03002\\\\2014_03002_1.bmp', 'D:\\\\肝包虫图片\\\\包虫勾画工作\\\\专家共识包虫图片\\\\1_任叶蕾\\\\2014年超声图片\\\\03003\\\\2014_03003_1.bmp', 'D:\\\\肝包虫图片\\\\包虫勾画工作\\\\专家共识包虫图片\\\\1_任叶蕾\\\\2014年超声图片\\\\03004\\\\2014_03004_1.bmp', 'D:\\\\肝包虫图片\\\\包虫勾画工作\\\\专家共识包虫图片\\\\1_任叶蕾\\\\2014年超声图片\\\\03005\\\\2014_03005_1.bmp']\n"
     ]
    }
   ],
   "source": [
    "import pickle\n",
    "with open('./assets/images_list.pkl', 'rb') as f:\n",
    "    images_list = pickle.load(f)\n",
    "print(len(images_list))\n",
    "print(images_list[:5])"
   ],
   "metadata": {
    "collapsed": false,
    "ExecuteTime": {
     "end_time": "2023-07-20T02:58:57.538327700Z",
     "start_time": "2023-07-20T02:58:57.480535600Z"
    }
   }
  },
  {
   "cell_type": "code",
   "execution_count": 4,
   "outputs": [
    {
     "name": "stdout",
     "output_type": "stream",
     "text": [
      "45395 [0, 0, 0, 0, 0]\n"
     ]
    }
   ],
   "source": [
    "included_list = [0]*len(images_list)\n",
    "print(len(included_list), included_list[:5])"
   ],
   "metadata": {
    "collapsed": false,
    "ExecuteTime": {
     "end_time": "2023-07-20T02:59:07.794316400Z",
     "start_time": "2023-07-20T02:59:07.769422500Z"
    }
   }
  },
  {
   "cell_type": "code",
   "execution_count": 5,
   "outputs": [
    {
     "name": "stdout",
     "output_type": "stream",
     "text": [
      "<class 'list'>\n"
     ]
    }
   ],
   "source": [
    "import json\n",
    "print(type(included_list))\n",
    "with open('./assets/included_list.pkl', 'wb') as f:\n",
    "    pickle.dump(included_list, f)"
   ],
   "metadata": {
    "collapsed": false,
    "ExecuteTime": {
     "end_time": "2023-07-20T02:59:10.436629700Z",
     "start_time": "2023-07-20T02:59:10.427652600Z"
    }
   }
  },
  {
   "cell_type": "code",
   "execution_count": 128,
   "outputs": [
    {
     "name": "stdout",
     "output_type": "stream",
     "text": [
      "45395 [2, 2, 2, 2, 2]\n"
     ]
    }
   ],
   "source": [
    "with open('./assets/included_list.pkl', 'rb') as f:\n",
    "    inc_list = pickle.load(f)\n",
    "print(len(inc_list), inc_list[:5])"
   ],
   "metadata": {
    "collapsed": false,
    "ExecuteTime": {
     "end_time": "2023-07-17T11:17:55.005080600Z",
     "start_time": "2023-07-17T11:17:54.981281200Z"
    }
   }
  },
  {
   "cell_type": "code",
   "execution_count": 131,
   "outputs": [],
   "source": [
    "import os\n",
    "\n",
    "def delete_file_or_folder(path):\n",
    "    # 获取文件的父目录\n",
    "    parent_dir = os.path.dirname(path)\n",
    "\n",
    "    if os.path.isdir(parent_dir):\n",
    "        if len(os.listdir(parent_dir)) == 1:\n",
    "            delete_file_or_folder(parent_dir)  # 递归删除父目录\n",
    "        else:\n",
    "            os.remove(path)  # 删除文件\n",
    "\n",
    "# 要删除的文件的路径\n",
    "file_path = r'E:\\筛选后肝包虫图片\\肝包虫图片\\包虫勾画工作\\专家共识包虫图片\\3_王逸非\\2016年超声图片\\41023\\41023-1200\\2016_41023_4.jpg'\n",
    "\n",
    "# 调用函数删除文件或文件夹\n",
    "os.remove(file_path)"
   ],
   "metadata": {
    "collapsed": false,
    "ExecuteTime": {
     "end_time": "2023-07-17T11:45:56.749547900Z",
     "start_time": "2023-07-17T11:45:56.735148400Z"
    }
   }
  }
 ],
 "metadata": {
  "kernelspec": {
   "display_name": "Python 3",
   "language": "python",
   "name": "python3"
  },
  "language_info": {
   "codemirror_mode": {
    "name": "ipython",
    "version": 2
   },
   "file_extension": ".py",
   "mimetype": "text/x-python",
   "name": "python",
   "nbconvert_exporter": "python",
   "pygments_lexer": "ipython2",
   "version": "2.7.6"
  }
 },
 "nbformat": 4,
 "nbformat_minor": 0
}
